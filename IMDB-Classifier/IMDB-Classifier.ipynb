{
 "cells": [
  {
   "cell_type": "markdown",
   "metadata": {},
   "source": [
    "Modèle de ML qui est capable de classifier les critiques de films de la base de donnée de IMDB en fonction de si elles sont positives ou négatives.\n",
    "\n",
    "La démarche a été la suivante :\n",
    "\n",
    "J'utilise du transfert learning sur un language model, un modèle qui comprends la langue anglaise, déjà entraîné avec la base de donnée de Wikipedia en anglais (wikitext-103), cette démarche permet de gagner énormément de temps et d'argent. C'est un modèle entrainé pour deviner le(s) prochain(s) mot(s) d'une phrase. On prends ce language model et on va le fine tune avec notre base de donnée de critique IMDB qui contient plus de 100 000 critiques positives comme négatives de films. Une fois que c'est fait, on dispose d'un language model qui est spécialisé dans la critique de films, on va donc ensuite le transformer en Classifier pour enfin pouvoir discriminer les critiques positives et négatives."
   ]
  },
  {
   "cell_type": "code",
   "execution_count": null,
   "metadata": {
    "_cell_guid": "b1076dfc-b9ad-4769-8c92-a6c4dae69d19",
    "_uuid": "8f2839f25d086af736a60e9eeb907d3b93b6e0e5"
   },
   "outputs": [],
   "source": [
    "%reload_ext autoreload\n",
    "%autoreload 2\n",
    "%matplotlib"
   ]
  },
  {
   "cell_type": "markdown",
   "metadata": {},
   "source": [
    "J'importe ici tout ce dont j'ai besoin pour mon algo,\n",
    "j'utilise Fast.ai dans sa v1, qui est une surcouche de la bibliothèque pytorch,\n",
    "Fastai est une bibliothèque complète, généraliste et très modulaire."
   ]
  },
  {
   "cell_type": "code",
   "execution_count": 2,
   "metadata": {
    "_cell_guid": "79c7e3d0-c299-4dcb-8224-4455121ee9b0",
    "_uuid": "d629ff2d2480ee46fbb7e2d37f6b5fab8052498a"
   },
   "outputs": [],
   "source": [
    "from fastai.text import *"
   ]
  },
  {
   "cell_type": "markdown",
   "metadata": {},
   "source": [
    "Je télécharge une version plus petite de la base de donnée IMDB à titre d'illustration"
   ]
  },
  {
   "cell_type": "code",
   "execution_count": 3,
   "metadata": {},
   "outputs": [
    {
     "name": "stdout",
     "output_type": "stream",
     "text": [
      "Downloading http://files.fast.ai/data/examples/imdb_sample.tgz\n"
     ]
    },
    {
     "data": {
      "text/html": [],
      "text/plain": [
       "<IPython.core.display.HTML object>"
      ]
     },
     "metadata": {},
     "output_type": "display_data"
    },
    {
     "data": {
      "text/plain": [
       "[PosixPath('/root/.fastai/data/imdb_sample/texts.csv')]"
      ]
     },
     "execution_count": 3,
     "metadata": {},
     "output_type": "execute_result"
    }
   ],
   "source": [
    "path = untar_data(URLs.IMDB_SAMPLE)\n",
    "path.ls()"
   ]
  },
  {
   "cell_type": "markdown",
   "metadata": {},
   "source": [
    "Les critiques prennent la forme d'un fichier csv avec trois colonnes : \n",
    "\n",
    "label définit si la critique est positive ou négative.\n",
    "\n",
    "is_valid définit si la critique doit faire partie du set d'entraînement,\n",
    "ou de validation"
   ]
  },
  {
   "cell_type": "code",
   "execution_count": 4,
   "metadata": {},
   "outputs": [
    {
     "data": {
      "text/html": [
       "<div>\n",
       "<style scoped>\n",
       "    .dataframe tbody tr th:only-of-type {\n",
       "        vertical-align: middle;\n",
       "    }\n",
       "\n",
       "    .dataframe tbody tr th {\n",
       "        vertical-align: top;\n",
       "    }\n",
       "\n",
       "    .dataframe thead th {\n",
       "        text-align: right;\n",
       "    }\n",
       "</style>\n",
       "<table border=\"1\" class=\"dataframe\">\n",
       "  <thead>\n",
       "    <tr style=\"text-align: right;\">\n",
       "      <th></th>\n",
       "      <th>label</th>\n",
       "      <th>text</th>\n",
       "      <th>is_valid</th>\n",
       "    </tr>\n",
       "  </thead>\n",
       "  <tbody>\n",
       "    <tr>\n",
       "      <th>0</th>\n",
       "      <td>negative</td>\n",
       "      <td>Un-bleeping-believable! Meg Ryan doesn't even ...</td>\n",
       "      <td>False</td>\n",
       "    </tr>\n",
       "    <tr>\n",
       "      <th>1</th>\n",
       "      <td>positive</td>\n",
       "      <td>This is a extremely well-made film. The acting...</td>\n",
       "      <td>False</td>\n",
       "    </tr>\n",
       "    <tr>\n",
       "      <th>2</th>\n",
       "      <td>negative</td>\n",
       "      <td>Every once in a long while a movie will come a...</td>\n",
       "      <td>False</td>\n",
       "    </tr>\n",
       "    <tr>\n",
       "      <th>3</th>\n",
       "      <td>positive</td>\n",
       "      <td>Name just says it all. I watched this movie wi...</td>\n",
       "      <td>False</td>\n",
       "    </tr>\n",
       "    <tr>\n",
       "      <th>4</th>\n",
       "      <td>negative</td>\n",
       "      <td>This movie succeeds at being one of the most u...</td>\n",
       "      <td>False</td>\n",
       "    </tr>\n",
       "  </tbody>\n",
       "</table>\n",
       "</div>"
      ],
      "text/plain": [
       "      label                                               text  is_valid\n",
       "0  negative  Un-bleeping-believable! Meg Ryan doesn't even ...     False\n",
       "1  positive  This is a extremely well-made film. The acting...     False\n",
       "2  negative  Every once in a long while a movie will come a...     False\n",
       "3  positive  Name just says it all. I watched this movie wi...     False\n",
       "4  negative  This movie succeeds at being one of the most u...     False"
      ]
     },
     "execution_count": 4,
     "metadata": {},
     "output_type": "execute_result"
    }
   ],
   "source": [
    "df = pd.read_csv(path/'texts.csv')\n",
    "df.head()"
   ]
  },
  {
   "cell_type": "markdown",
   "metadata": {},
   "source": [
    "Un exemple de critique :"
   ]
  },
  {
   "cell_type": "code",
   "execution_count": 5,
   "metadata": {},
   "outputs": [
    {
     "data": {
      "text/plain": [
       "\"Un-bleeping-believable! Meg Ryan doesn't even look her usual pert lovable self in this, which normally makes me forgive her shallow ticky acting schtick. Hard to believe she was the producer on this dog. Plus Kevin Kline: what kind of suicide trip has his career been on? Whoosh... Banzai!!! Finally this was directed by the guy who did Big Chill? Must be a replay of Jonestown - hollywood style. Wooofff!\""
      ]
     },
     "execution_count": 5,
     "metadata": {},
     "output_type": "execute_result"
    }
   ],
   "source": [
    "df['text'][0]"
   ]
  },
  {
   "cell_type": "markdown",
   "metadata": {},
   "source": [
    "Ici, en tâche de fond, dans les classes TextLMDatabunch (qui s'occupe de créer un language model) et TextClasDataBunch (qui s'occupe de créer un classifier), les textes sont d'abord tokenisés, les majuscules, la ponctuation, des contractions de deux mots différents, et d'autres élements implicites de la langue sont rendus explicites en étant transformés en tokens, puis ensuite les données sont numérisés : les réseaux de neurones ne reçoivent que des chiffres, il faut donc transformer les textes et les tokens en suite de chiffres pour pouvoir \"nourrir\" le réseau de neurones."
   ]
  },
  {
   "cell_type": "code",
   "execution_count": 6,
   "metadata": {},
   "outputs": [
    {
     "data": {
      "text/html": [],
      "text/plain": [
       "<IPython.core.display.HTML object>"
      ]
     },
     "metadata": {},
     "output_type": "display_data"
    },
    {
     "data": {
      "text/html": [],
      "text/plain": [
       "<IPython.core.display.HTML object>"
      ]
     },
     "metadata": {},
     "output_type": "display_data"
    },
    {
     "data": {
      "text/html": [],
      "text/plain": [
       "<IPython.core.display.HTML object>"
      ]
     },
     "metadata": {},
     "output_type": "display_data"
    },
    {
     "data": {
      "text/html": [],
      "text/plain": [
       "<IPython.core.display.HTML object>"
      ]
     },
     "metadata": {},
     "output_type": "display_data"
    }
   ],
   "source": [
    "data_lm = TextLMDataBunch.from_csv(path, 'texts.csv')\n",
    "data_class = TextClasDataBunch.from_csv(path, 'texts.csv', vocab=data_lm.train_ds.vocab, bs=32)"
   ]
  },
  {
   "cell_type": "code",
   "execution_count": 7,
   "metadata": {},
   "outputs": [],
   "source": [
    "data_lm.save()"
   ]
  },
  {
   "cell_type": "markdown",
   "metadata": {},
   "source": [
    "Quelques critiques \"tokenisées\" "
   ]
  },
  {
   "cell_type": "code",
   "execution_count": 8,
   "metadata": {},
   "outputs": [
    {
     "data": {
      "text/html": [
       "<table border=\"1\" class=\"dataframe\">\n",
       "  <thead>\n",
       "    <tr style=\"text-align: right;\">\n",
       "      <th>text</th>\n",
       "      <th>target</th>\n",
       "    </tr>\n",
       "  </thead>\n",
       "  <tbody>\n",
       "    <tr>\n",
       "      <td>xxbos xxmaj raising xxmaj victor xxmaj vargas : a xxmaj review \\n \\n  xxmaj you know , xxmaj raising xxmaj victor xxmaj vargas is like sticking your hands into a big , xxunk bowl of xxunk . xxmaj it 's warm and gooey , but you 're not sure if it feels right . xxmaj try as i might , no matter how warm and gooey xxmaj raising xxmaj</td>\n",
       "      <td>negative</td>\n",
       "    </tr>\n",
       "    <tr>\n",
       "      <td>xxbos xxup the xxup shop xxup around xxup the xxup corner is one of the sweetest and most feel - good romantic comedies ever made . xxmaj there 's just no getting around that , and it 's hard to actually put one 's feeling for this film into words . xxmaj it 's not one of those films that tries too hard , nor does it come up with</td>\n",
       "      <td>positive</td>\n",
       "    </tr>\n",
       "    <tr>\n",
       "      <td>xxbos xxmaj this film sat on my xxmaj tivo for weeks before i watched it . i dreaded a self - indulgent xxunk flick about relationships gone bad . i was wrong ; this was an xxunk xxunk into the screwed - up xxunk of xxmaj new xxmaj yorkers . \\n \\n  xxmaj the format is the same as xxmaj max xxmaj xxunk ' \" xxmaj la xxmaj ronde</td>\n",
       "      <td>positive</td>\n",
       "    </tr>\n",
       "    <tr>\n",
       "      <td>xxbos xxmaj many neglect that this is n't just a classic due to the fact that it 's the first xxup 3d game , or even the first xxunk - up . xxmaj it 's also one of the first stealth games , one of the xxunk definitely the first ) truly claustrophobic games , and just a pretty well - xxunk gaming experience in general . xxmaj with graphics</td>\n",
       "      <td>positive</td>\n",
       "    </tr>\n",
       "    <tr>\n",
       "      <td>xxbos i really wanted to love this show . i truly , honestly did . \\n \\n  xxmaj for the first time , gay viewers get their own version of the \" xxmaj the xxmaj bachelor \" . xxmaj with the help of his obligatory \" hag \" xxmaj xxunk , xxmaj james , a good looking , well - to - do thirty - something has the chance</td>\n",
       "      <td>negative</td>\n",
       "    </tr>\n",
       "  </tbody>\n",
       "</table>"
      ],
      "text/plain": [
       "<IPython.core.display.HTML object>"
      ]
     },
     "metadata": {},
     "output_type": "display_data"
    }
   ],
   "source": [
    "data_class.show_batch()"
   ]
  },
  {
   "cell_type": "markdown",
   "metadata": {},
   "source": [
    "Une partie de la liste des tokens enregistrés."
   ]
  },
  {
   "cell_type": "code",
   "execution_count": 9,
   "metadata": {},
   "outputs": [
    {
     "data": {
      "text/plain": [
       "['xxunk',\n",
       " 'xxpad',\n",
       " 'xxbos',\n",
       " 'xxeos',\n",
       " 'xxfld',\n",
       " 'xxmaj',\n",
       " 'xxup',\n",
       " 'xxrep',\n",
       " 'xxwrep',\n",
       " 'the']"
      ]
     },
     "execution_count": 9,
     "metadata": {},
     "output_type": "execute_result"
    }
   ],
   "source": [
    "data_class.vocab.itos[:10]"
   ]
  },
  {
   "cell_type": "markdown",
   "metadata": {},
   "source": [
    "On télécharge ici la version complète de la base de données de critique de film IMDB"
   ]
  },
  {
   "cell_type": "code",
   "execution_count": 13,
   "metadata": {},
   "outputs": [
    {
     "name": "stdout",
     "output_type": "stream",
     "text": [
      "Downloading https://s3.amazonaws.com/fast-ai-nlp/imdb.tgz\n"
     ]
    },
    {
     "data": {
      "text/html": [],
      "text/plain": [
       "<IPython.core.display.HTML object>"
      ]
     },
     "metadata": {},
     "output_type": "display_data"
    },
    {
     "data": {
      "text/plain": [
       "[PosixPath('/root/.fastai/data/imdb/imdb.vocab'),\n",
       " PosixPath('/root/.fastai/data/imdb/README'),\n",
       " PosixPath('/root/.fastai/data/imdb/unsup'),\n",
       " PosixPath('/root/.fastai/data/imdb/test'),\n",
       " PosixPath('/root/.fastai/data/imdb/tmp_lm'),\n",
       " PosixPath('/root/.fastai/data/imdb/train'),\n",
       " PosixPath('/root/.fastai/data/imdb/tmp_clas')]"
      ]
     },
     "execution_count": 13,
     "metadata": {},
     "output_type": "execute_result"
    }
   ],
   "source": [
    "path = untar_data(URLs.IMDB)\n",
    "path.ls()"
   ]
  },
  {
   "cell_type": "code",
   "execution_count": 14,
   "metadata": {},
   "outputs": [
    {
     "data": {
      "text/plain": [
       "[PosixPath('/root/.fastai/data/imdb/train/neg'),\n",
       " PosixPath('/root/.fastai/data/imdb/train/unsupBow.feat'),\n",
       " PosixPath('/root/.fastai/data/imdb/train/labeledBow.feat'),\n",
       " PosixPath('/root/.fastai/data/imdb/train/pos')]"
      ]
     },
     "execution_count": 14,
     "metadata": {},
     "output_type": "execute_result"
    }
   ],
   "source": [
    "(path/'train').ls()"
   ]
  },
  {
   "cell_type": "code",
   "execution_count": 15,
   "metadata": {},
   "outputs": [
    {
     "data": {
      "text/html": [],
      "text/plain": [
       "<IPython.core.display.HTML object>"
      ]
     },
     "metadata": {},
     "output_type": "display_data"
    },
    {
     "data": {
      "text/html": [],
      "text/plain": [
       "<IPython.core.display.HTML object>"
      ]
     },
     "metadata": {},
     "output_type": "display_data"
    }
   ],
   "source": [
    "data_lm = (TextList.from_folder(path)\n",
    "           # On indique où sont les données\n",
    "           .filter_by_folder(include=['train', 'test', 'unsup'])\n",
    "           # On indique comment séparer les données entre train et test, ici par dossiers\n",
    "           .split_by_rand_pct(0.1)                               \n",
    "           # On indique ici la part de critique qu'on mettra dans le validation set, ici 10%\n",
    "           .label_for_lm()\n",
    "           # On indique que l'on veut un language model et qu'il faut labéliser en consequence\n",
    "           .databunch(bs=48))\n",
    "           # On transforme le tout en une classe qui regroupe le tout\n",
    "data_lm.save('data_lm.pkl')"
   ]
  },
  {
   "cell_type": "markdown",
   "metadata": {},
   "source": [
    "On va ici utiliser le language model wikitext-103 pour ensuite le fine tune"
   ]
  },
  {
   "cell_type": "code",
   "execution_count": 16,
   "metadata": {},
   "outputs": [
    {
     "name": "stdout",
     "output_type": "stream",
     "text": [
      "Downloading https://s3.amazonaws.com/fast-ai-modelzoo/wt103-fwd.tgz\n"
     ]
    },
    {
     "data": {
      "text/html": [],
      "text/plain": [
       "<IPython.core.display.HTML object>"
      ]
     },
     "metadata": {},
     "output_type": "display_data"
    }
   ],
   "source": [
    "learner = language_model_learner(data_lm, AWD_LSTM, drop_mult=0.3)"
   ]
  },
  {
   "cell_type": "markdown",
   "metadata": {},
   "source": [
    "On cherche ici le learning rate le plus adapté à notre modèle."
   ]
  },
  {
   "cell_type": "code",
   "execution_count": 17,
   "metadata": {},
   "outputs": [
    {
     "data": {
      "text/html": [
       "\n",
       "    <div>\n",
       "        <style>\n",
       "            /* Turns off some styling */\n",
       "            progress {\n",
       "                /* gets rid of default border in Firefox and Opera. */\n",
       "                border: none;\n",
       "                /* Needs to be in here for Safari polyfill so background images work as expected. */\n",
       "                background-size: auto;\n",
       "            }\n",
       "            .progress-bar-interrupted, .progress-bar-interrupted::-webkit-progress-bar {\n",
       "                background: #F44336;\n",
       "            }\n",
       "        </style>\n",
       "      <progress value='0' class='' max='1' style='width:300px; height:20px; vertical-align: middle;'></progress>\n",
       "      0.00% [0/1 00:00<00:00]\n",
       "    </div>\n",
       "    \n",
       "<table border=\"1\" class=\"dataframe\">\n",
       "  <thead>\n",
       "    <tr style=\"text-align: left;\">\n",
       "      <th>epoch</th>\n",
       "      <th>train_loss</th>\n",
       "      <th>valid_loss</th>\n",
       "      <th>accuracy</th>\n",
       "      <th>time</th>\n",
       "    </tr>\n",
       "  </thead>\n",
       "  <tbody>\n",
       "  </tbody>\n",
       "</table><p>\n",
       "\n",
       "    <div>\n",
       "        <style>\n",
       "            /* Turns off some styling */\n",
       "            progress {\n",
       "                /* gets rid of default border in Firefox and Opera. */\n",
       "                border: none;\n",
       "                /* Needs to be in here for Safari polyfill so background images work as expected. */\n",
       "                background-size: auto;\n",
       "            }\n",
       "            .progress-bar-interrupted, .progress-bar-interrupted::-webkit-progress-bar {\n",
       "                background: #F44336;\n",
       "            }\n",
       "        </style>\n",
       "      <progress value='99' class='' max='8060' style='width:300px; height:20px; vertical-align: middle;'></progress>\n",
       "      1.23% [99/8060 00:17<23:26 11.4513]\n",
       "    </div>\n",
       "    "
      ],
      "text/plain": [
       "<IPython.core.display.HTML object>"
      ]
     },
     "metadata": {},
     "output_type": "display_data"
    },
    {
     "name": "stdout",
     "output_type": "stream",
     "text": [
      "LR Finder is complete, type {learner_name}.recorder.plot() to see the graph.\n"
     ]
    }
   ],
   "source": [
    "learner.lr_find()"
   ]
  },
  {
   "cell_type": "code",
   "execution_count": 18,
   "metadata": {},
   "outputs": [],
   "source": [
    "learner.recorder.plot(skip_end=15)"
   ]
  },
  {
   "cell_type": "markdown",
   "metadata": {},
   "source": [
    "On commence à entraîner les premières couches de notre réseau de neurone"
   ]
  },
  {
   "cell_type": "code",
   "execution_count": 19,
   "metadata": {},
   "outputs": [
    {
     "data": {
      "text/html": [
       "<table border=\"1\" class=\"dataframe\">\n",
       "  <thead>\n",
       "    <tr style=\"text-align: left;\">\n",
       "      <th>epoch</th>\n",
       "      <th>train_loss</th>\n",
       "      <th>valid_loss</th>\n",
       "      <th>accuracy</th>\n",
       "      <th>time</th>\n",
       "    </tr>\n",
       "  </thead>\n",
       "  <tbody>\n",
       "    <tr>\n",
       "      <td>0</td>\n",
       "      <td>4.130412</td>\n",
       "      <td>4.022075</td>\n",
       "      <td>0.295426</td>\n",
       "      <td>23:39</td>\n",
       "    </tr>\n",
       "  </tbody>\n",
       "</table>"
      ],
      "text/plain": [
       "<IPython.core.display.HTML object>"
      ]
     },
     "metadata": {},
     "output_type": "display_data"
    }
   ],
   "source": [
    "learner.fit_one_cycle(1, 1e-2, moms=(0.8,0.7))"
   ]
  },
  {
   "cell_type": "code",
   "execution_count": 20,
   "metadata": {},
   "outputs": [
    {
     "data": {
      "text/plain": [
       "LanguageLearner(data=TextLMDataBunch;\n",
       "\n",
       "Train: LabelList (90000 items)\n",
       "x: LMTextList\n",
       "xxbos xxmaj jiang xxmaj xian uses the complex backstory of xxmaj ling xxmaj ling and xxmaj mao xxmaj xxunk to study xxmaj mao 's \" cultural revolution \" ( 1966 - 1976 ) at the village level . xxmaj the film has the elements and pace of xxmaj chinese opera and so appears slow and sometimes sentimental to the foreign viewer . xxmaj but the movie provides a window onto contemporary life in xxmaj china , with its focus upon villagers in the city , the consuming quality of subsistence -- daily struggle , family and local cruelties -- and the appeal of movies as escape , fantasy , and , ultimately , as source of community . xxmaj this last is the most radical element in the film , for it suggests the modern -- and universal -- experience of culture will replace the insular xxmaj chinese traditions . xxmaj the child actors are particularly fine .,xxbos xxmaj sheesh ! xxmaj it is amazing how much control the xxmaj hollywood establishment has over the entire spectrum of news media . xxmaj in the morning paper , i read about some new movie for the first time ever . xxmaj at noon , there it is again in a news magazine i get in the mail . xxmaj then i see some \" news \" story about it at six o'clock , and later on in the evening there 's some story about one of the stars , and later again , an interview with the director and so on . xxmaj the next day , the movie opens in a theater near you ... and it turns out to be one mediocre dog doo of a flick that 's begging seats in the \" dollar theatre \" a month later , only to be forgotten by year 's end . \n",
       " \n",
       "  xxmaj then , there are movies like this one . \n",
       " \n",
       "  i 'd never heard of it when i happened by chance to see it at a friend 's house . \n",
       " \n",
       "  xxmaj and i 'll never forget it . xxmaj what a masterpiece ! \n",
       " \n",
       "  xxmaj if you 're a musician , and especially if your first instrument was a hand - me - down , you might appreciate the peculiar tendency of a musical instrument to absorb and even accumulate the human soul , and find its way into the most appropriate hands . xxmaj that 's what this movie is about . xxmaj although if you 're like me , you might think it 's about that one hand - me - down that nobody else wanted , that got you started , the one that years later , when you saw some kid admiring it , you just * knew * it no longer belonged to you ... \n",
       " \n",
       " ,xxbos xxmaj john xxmaj travolta and xxmaj olivia xxmaj newton - xxmaj john star in this ' 70s version of the ' 50s . xxmaj olivia came from xxmaj australia and won the hearts of music fans . \" xxmaj you 're xxmaj the xxmaj one xxmaj that i xxmaj want \" is the hot number from the film . xxmaj the pair dress in black . \" xxmaj tell me about it , stud ! \" she coos . xxmaj grease appeals to younger generations . xxmaj male / female duos perform xxmaj summer xxmaj nights to karaoke tracks . xxmaj the film also exaggerates . xxmaj there were no t - xxmaj birds or xxmaj pink xxmaj ladies in my school . xxmaj or maybe i was too young and naive to know what was happening . xxmaj the cast of xxmaj grease was long out of high school , ranging in age from 19 to 35 . xxmaj barry xxmaj gibb composed the title song . xxmaj oddly enough , it is closer to disco than to rock ' n ' roll .,xxbos i 've been a xxmaj woody xxmaj allen fan since the 1970s , when i was about 20 , and this gem is one of his absolute best . xxmaj sweet , nostalgic , fall - down funny , wistful , at times remarkably poignant and sad ... this xxmaj allen film has it all and shows the director at the top of his form . i have a soft spot for xxmaj dianne xxmaj wiest and she 's fabulous here as the marriage - hungry xxmaj aunt xxmaj bea , whose terrible luck at chasing matrimony makes you wish you could push your favorite unmarried cousin her way . xxmaj julie xxmaj kavner and xxmaj michael xxmaj tucker also shine as the main set of parents in the piece , xxmaj mom & xxmaj dad to xxmaj allen 's childhood alter ego . i never had a family and relatives as neurotic and wild as this bunch in xxmaj brooklyn -- but xxmaj allen almost makes me wish i had ! xxmaj possibly his best work , and accessible to a wider audience than his usual showcases to angst . \n",
       " \n",
       " ,xxbos * * * xxup contains xxup spoilers * * * xxmaj this movie was great . xxmaj absolutely marvellous , in fact . i do n't think i have ever been so infuriated with a movie character before as i was with xxmaj wilbur . xxmaj what an utter b**tard ! xxmaj he is funny and almost lovable , but sponges unaffected on his brother 's indulgence to the point where his selfishness , as the ultimate irony , drives xxmaj harbour into committing suicide . xxmaj that makes me angry . xxmaj what makes me even more angry , is that up until the very end i actually liked xxmaj wilbur .\n",
       "y: LMLabelList\n",
       ",,,,\n",
       "Path: /root/.fastai/data/imdb;\n",
       "\n",
       "Valid: LabelList (10000 items)\n",
       "x: LMTextList\n",
       "xxbos xxmaj there is , as many reviews have observed , a strong dark streak to this movie . xxmaj the director it most recalls to me is xxmaj john xxmaj landis ( yeah , go ahead and howl about what a peasant i am ) . xxmaj arcand has the gift of exploring frivolous things in a bleak , gray kind of way , then turning round and exploring the horrors of life with a lighthearted touch . \n",
       " \n",
       "  xxmaj the cast is , without exception , above average . xxmaj thomas xxmaj gibson , as xxmaj david , is outstanding as the moody and self - deceptive center around whom the rest of the characters revolve . xxmaj he talks a good nihilist , but his actions reflect more love in his character than he is willing to acknowledge . xxmaj gibson was already a strong and subtle actor in 1993 . xxmaj it was difficult to look at him and see xxmaj greg xxmaj montgomery , let alone xxmaj agent xxmaj xxunk of xxmaj criminal xxmaj minds . \n",
       " \n",
       "  xxmaj perhaps not the best scene , but the one i enjoy most , my \" rewind scene , \" is the section where xxmaj candy is expecting a visitor , and one uninvited person after another shows up at the door . xxmaj as xxmaj candy 's interpersonal environment swings further and further out of control , xxmaj david just grows xxunk , xxunk , and more enthusiastic , like a gaunt xxmaj gen - x \" xxmaj tigger . \",xxbos xxmaj it 's always tough having a sibling doing better in their life than you , always a struggle to get out from under that shadow and not let bitterness keep you away from your family . xxmaj so , imagine that your older brother is xxmaj santa and then imagine how tough that must be . xxmaj that 's the premise here . \n",
       " \n",
       "  xxmaj vince xxmaj vaughn plays the titular xxmaj fred , an embittered loser who spends a lot of his energy making sure that people do n't go around expecting good things to happen to them or giving his brother , xxmaj santa ( played by xxmaj paul xxmaj giamatti ) , too much praise for simply being the limelight - hogging , fame - hungry , slightly creepy guy that xxmaj fred would want to portray him as . xxmaj then , would n't you know it , xxmaj fred needs a financial favour and so has to make up for it by helping his brother on the run up to xxmaj christmas . xxmaj and hilarity and life lessons ensue . \n",
       " \n",
       "  xxmaj well , that 's what should happen . xxmaj the reality is that we get a xxmaj christmas movie featuring a few good moments of xxmaj vaughn 's patented fast - talking , a ridiculously out - of - nowhere music video moment , xxmaj kevin xxmaj spacey playing an auditor out to close down xxmaj santa 's operation ( and he 's one of the weakest baddies i have seen in some time ) , not enough of the gorgeous xxmaj elizabeth xxmaj banks in a lush xxmaj christmas outfit , too much of xxmaj john xxmaj michael xxmaj higgins in his elf outfit ( to be fair , he 's a highlight though ) and a movie that 's too swimming in bitterness to feel like good seasonal fare yet too schmaltzy in it 's latter half to feel like a fun poke at all the bad things about the commercialism of the time . \n",
       " \n",
       "  xxmaj rachel xxmaj weisz is along for the ride too , as is xxmaj kathy xxmaj bates , but it 's really nothing more than a movie for xxmaj vaughn and if you like his style you will find something to enjoy here . xxmaj unfortunately , there 's very little else to recommend this seasonal stinker . xxmaj outside of xxmaj vaughn 's rantings the script barely throws up anything decent with the exception of one particularly good scene involving a hilarious support group dealing with a very specific problem . \n",
       " \n",
       "  xxmaj david xxmaj xxunk 's direction is as mediocre and staid as the xxunk xxmaj christmas card that you send the auntie you have n't seen in 10 years and he seems to think that simply putting the ingredients together without a good mix or decent care taken will guarantee a delicious xxmaj christmas pudding . xxmaj nope , we get a burnt , bland lump with too much sugar on top . xxmaj forget this and stick the hilarious xxmaj elf on again if you want a great , modern xxmaj christmas comedy . \n",
       " \n",
       "  xxmaj see this if you like : xxmaj the xxmaj santa xxmaj clause 2 , xxmaj santa xxmaj baby , xxmaj the xxmaj santa xxmaj clause 3 : xxmaj the xxmaj escape xxmaj clause .,xxbos xxmaj this is just possibly the most \" perfect \" movie ever made . xxmaj there is no meaningless dialog ; not a single extraneous character ; and every plot twist is rational and reasonable . xxmaj not to mention a superb soundtrack . xxmaj because of the intense violence , particularly against women , it is a disturbing and difficult film to sit through . xxmaj but if you care about the cinema , you must watch without interruption ! xxmaj characters get what they deserve ... in the beginning and at the climax . xxmaj let xxmaj kubrick take you on the emotional rollercoaster of your cinematic life . xxmaj and do n't forget to breathe .,xxbos xxmaj as a serious horror fan , i get that certain marketing ploys are used to sell movies , especially the really bad ones . xxmaj so i would n't call it naiveté that i assumed this was softcore horror ripping off xxmaj cannibal / xxmaj zombi / xxmaj jungle xxmaj holocaust . xxmaj unfortunately , i was completely wrong as this is very hardcore . i should have realized that when i saw the odd \" xxmaj no actual or identifiable minor was used \" warning . xxmaj notice the identifiable part as though he is daring us to catch him ? a group of scientists , half of whom are pretty women in bikinis , are led by a sea captain with a penchant for xxunk on the beach , in search for a mutated native killing villagers . xxmaj due to a nuclear bomb detonated on a supposedly evacuated island , the radiation turned this last man into a rapist / killer . \n",
       " \n",
       "  xxmaj writer / actor xxmaj george xxmaj eastman is the only one trying here and succeeds in keeping his clothes on . xxmaj the sex scenes are whacked out . xxmaj women walk around nude exuding a strange xxunk and one even asks for rape when her husband turns her down . xxmaj well , two chicks slapping each other naturally turns into a lesbo scene because women are xxunk . i saw the chick toss another chicks salad and finger herself . \n",
       " \n",
       "  xxmaj if there is anything you should know about this film , it is that . xxmaj because the rest of this insane movie is just the same . xxmaj oh , who am i kidding ? xxmaj there is a ton more to tell here . xxmaj like the white \" xxmaj duchess \" that pays for 2 black guys to tag team her in a parlor . xxmaj or the \" xxmaj duchess \" taking off her top to use as a bandage when the captain cuts himself . xxmaj when he refuses her advances , she starts crying . xxmaj so being the good gentleman he is , he reluctantly lets her pleasure him in front of the other crew members . i was honestly waiting for the pizza guy to show up and the \" xxmaj duchess \" to ask if there is any other way to pay him . \n",
       " \n",
       "  xxmaj and all of this happens before they depart for the island to conduct their research . xxmaj wait , i thought this was a zombie flick ? xxmaj but the zombie does n't enter until the xxunk mark , but by that time everyone else has been \" entered \" plenty . i found myself hitting fast forward a few scenes \n",
       " or several . xxmaj this is my first splatter porn flick and i do n't think it does that subgenre any justice . i guess it is the woman in me talking when i say that i would like more plot and less sweaty , slobbering , hairy sex . xxmaj funny thing is this could have worked as a decent horror film as the idea of atomic bombing mutating a bitter man and killing his family , was a good one . xxmaj even xxmaj eastman 's character shakes his head and walks away from a couple copulating . xxmaj it makes me wonder if it was the character or the writer himself that was disgusted . \n",
       " \n",
       "  i do n't feel like going into the sound or film quality because you should have already guessed it was bad . xxmaj this production was shot back to back with 3 other movies including xxmaj erotic xxmaj nights of the xxmaj living xxmaj dead , which sports most of the same cast . xxmaj eastman has said this was done because everyone wanted a vacation and a paycheck . xxmaj nevermind , i feel like talking about the sound suddenly . xxmaj the sound was weird during the sex scenes because while the cast is speaking xxmaj italian , it seems as though they recorded xxmaj english voiceovers and played that over their dialogue . xxmaj so while 2 people are boning , i can clearly hear someone in the background say , \" xxmaj no ! xxmaj yes ! xxmaj wonderful ! xxmaj wait ! \" xxmaj there was a slightly amusing xxmaj italian score that could n't save this movie . xxmaj the xxup sfx were minimal at best and consisted of some blood in only a few scenes . xxmaj and i would like to point out that there were no violent rape scenes as the bright warning label said on the xxup dvd cover ( ahem , another marketing ploy ) , so no fear there . xxmaj only fear the bad movie . \n",
       " \n",
       "  xxmaj presented in xxmaj widescreen 1.85:1 aspect ratio . i watched the xxmaj region 1 xxmaj not xxmaj rated version running at xxunk released in 2005 by xxmaj exploitation xxmaj digital . xxmaj there is apparently a xxup xxx version by xxmaj alfa xxmaj digital , which is the same running time , so i doubt anything is different . xxmaj prices vary , but you should n't pay more than $ 25.00 for a copy . xxmaj or as i would recommend , pay nothing and pretend it does n't exist . \n",
       " \n",
       "  xxmaj favorite xxmaj quote : xxmaj xxunk , \" xxmaj civilians are bad luck . xxmaj women are bad luck . xxmaj they 're scientists too ? xxmaj they must really be monsters . \" xxup dvd xxmaj extras : xxmaj original trailer with hardcore shots & kills to make it look more interesting than it is , xxmaj trailers for xxup ss xxmaj hell xxmaj camp , xxmaj emmanuelle , & xxup xxunk , and a very informative interview with xxmaj eastman . \n",
       " \n",
       "  xxmaj bottom xxmaj line : xxmaj lame porno , but even weaker as a horror film . xxmaj either get real porn or watch real horror . \n",
       " \n",
       "  xxmaj rating : 3 / 10 by xxmaj molly xxmaj xxunk xxunk,xxbos xxmaj the european video version of this film sucks . xxmaj it boosts pathetic dubbing , and claims to be an \" uncensored version \" featuring \" scenes never showed before \" , but i doubt this is true . xxmaj for the film : it 's incredibly dumb , has a very ugly production value , bad acting and has such an intense pace that you feel it could end any moment . xxmaj and if it did , you could n't give a xxrep 4 * about it . xxmaj if you must watch it , fast - forward it to the cool scene in which a woman is transformed from an elevator into a motorcycle ...\n",
       "y: LMLabelList\n",
       ",,,,\n",
       "Path: /root/.fastai/data/imdb;\n",
       "\n",
       "Test: None, model=SequentialRNN(\n",
       "  (0): AWD_LSTM(\n",
       "    (encoder): Embedding(60000, 400, padding_idx=1)\n",
       "    (encoder_dp): EmbeddingDropout(\n",
       "      (emb): Embedding(60000, 400, padding_idx=1)\n",
       "    )\n",
       "    (rnns): ModuleList(\n",
       "      (0): WeightDropout(\n",
       "        (module): LSTM(400, 1152, batch_first=True)\n",
       "      )\n",
       "      (1): WeightDropout(\n",
       "        (module): LSTM(1152, 1152, batch_first=True)\n",
       "      )\n",
       "      (2): WeightDropout(\n",
       "        (module): LSTM(1152, 400, batch_first=True)\n",
       "      )\n",
       "    )\n",
       "    (input_dp): RNNDropout()\n",
       "    (hidden_dps): ModuleList(\n",
       "      (0): RNNDropout()\n",
       "      (1): RNNDropout()\n",
       "      (2): RNNDropout()\n",
       "    )\n",
       "  )\n",
       "  (1): LinearDecoder(\n",
       "    (decoder): Linear(in_features=400, out_features=60000, bias=True)\n",
       "    (output_dp): RNNDropout()\n",
       "  )\n",
       "), opt_func=functools.partial(<class 'torch.optim.adam.Adam'>, betas=(0.9, 0.99)), loss_func=FlattenedLoss of CrossEntropyLoss(), metrics=[<function accuracy at 0x7f5917dc4e60>], true_wd=True, bn_wd=True, wd=0.01, train_bn=True, path=PosixPath('/root/.fastai/data/imdb'), model_dir='models', callback_fns=[functools.partial(<class 'fastai.basic_train.Recorder'>, add_time=True, silent=False)], callbacks=[RNNTrainer\n",
       "learn: ...\n",
       "alpha: 2.0\n",
       "beta: 1.0], layer_groups=[Sequential(\n",
       "  (0): WeightDropout(\n",
       "    (module): LSTM(400, 1152, batch_first=True)\n",
       "  )\n",
       "  (1): RNNDropout()\n",
       "), Sequential(\n",
       "  (0): WeightDropout(\n",
       "    (module): LSTM(1152, 1152, batch_first=True)\n",
       "  )\n",
       "  (1): RNNDropout()\n",
       "), Sequential(\n",
       "  (0): WeightDropout(\n",
       "    (module): LSTM(1152, 400, batch_first=True)\n",
       "  )\n",
       "  (1): RNNDropout()\n",
       "), Sequential(\n",
       "  (0): Embedding(60000, 400, padding_idx=1)\n",
       "  (1): EmbeddingDropout(\n",
       "    (emb): Embedding(60000, 400, padding_idx=1)\n",
       "  )\n",
       "  (2): LinearDecoder(\n",
       "    (decoder): Linear(in_features=400, out_features=60000, bias=True)\n",
       "    (output_dp): RNNDropout()\n",
       "  )\n",
       ")], add_time=True, silent=False)"
      ]
     },
     "execution_count": 20,
     "metadata": {},
     "output_type": "execute_result"
    }
   ],
   "source": [
    "learner.save('fit_head')\n",
    "learner.load('fit_head')"
   ]
  },
  {
   "cell_type": "markdown",
   "metadata": {},
   "source": [
    "On \"unfreeze\" ici le modèle, on indique donc ainsi qu'il faut entraîner le modèle entier."
   ]
  },
  {
   "cell_type": "code",
   "execution_count": 22,
   "metadata": {},
   "outputs": [
    {
     "data": {
      "text/html": [
       "<table border=\"1\" class=\"dataframe\">\n",
       "  <thead>\n",
       "    <tr style=\"text-align: left;\">\n",
       "      <th>epoch</th>\n",
       "      <th>train_loss</th>\n",
       "      <th>valid_loss</th>\n",
       "      <th>accuracy</th>\n",
       "      <th>time</th>\n",
       "    </tr>\n",
       "  </thead>\n",
       "  <tbody>\n",
       "    <tr>\n",
       "      <td>0</td>\n",
       "      <td>3.861368</td>\n",
       "      <td>3.812679</td>\n",
       "      <td>0.317656</td>\n",
       "      <td>26:42</td>\n",
       "    </tr>\n",
       "    <tr>\n",
       "      <td>1</td>\n",
       "      <td>3.826183</td>\n",
       "      <td>3.772185</td>\n",
       "      <td>0.325173</td>\n",
       "      <td>26:38</td>\n",
       "    </tr>\n",
       "    <tr>\n",
       "      <td>2</td>\n",
       "      <td>3.803324</td>\n",
       "      <td>3.742379</td>\n",
       "      <td>0.329288</td>\n",
       "      <td>26:44</td>\n",
       "    </tr>\n",
       "    <tr>\n",
       "      <td>3</td>\n",
       "      <td>3.699888</td>\n",
       "      <td>3.704858</td>\n",
       "      <td>0.333616</td>\n",
       "      <td>26:43</td>\n",
       "    </tr>\n",
       "    <tr>\n",
       "      <td>4</td>\n",
       "      <td>3.659085</td>\n",
       "      <td>3.676335</td>\n",
       "      <td>0.337051</td>\n",
       "      <td>26:46</td>\n",
       "    </tr>\n",
       "    <tr>\n",
       "      <td>5</td>\n",
       "      <td>3.591513</td>\n",
       "      <td>3.650991</td>\n",
       "      <td>0.339977</td>\n",
       "      <td>26:54</td>\n",
       "    </tr>\n",
       "    <tr>\n",
       "      <td>6</td>\n",
       "      <td>3.524016</td>\n",
       "      <td>3.632524</td>\n",
       "      <td>0.342284</td>\n",
       "      <td>26:47</td>\n",
       "    </tr>\n",
       "    <tr>\n",
       "      <td>7</td>\n",
       "      <td>3.458857</td>\n",
       "      <td>3.621678</td>\n",
       "      <td>0.344063</td>\n",
       "      <td>26:48</td>\n",
       "    </tr>\n",
       "    <tr>\n",
       "      <td>8</td>\n",
       "      <td>3.413003</td>\n",
       "      <td>3.619142</td>\n",
       "      <td>0.344461</td>\n",
       "      <td>26:47</td>\n",
       "    </tr>\n",
       "    <tr>\n",
       "      <td>9</td>\n",
       "      <td>3.391668</td>\n",
       "      <td>3.620793</td>\n",
       "      <td>0.344347</td>\n",
       "      <td>26:46</td>\n",
       "    </tr>\n",
       "  </tbody>\n",
       "</table>"
      ],
      "text/plain": [
       "<IPython.core.display.HTML object>"
      ]
     },
     "metadata": {},
     "output_type": "display_data"
    }
   ],
   "source": [
    "learner.unfreeze()\n",
    "learner.fit_one_cycle(10, 1e-3, moms=(0.8,0.7))"
   ]
  },
  {
   "cell_type": "code",
   "execution_count": 24,
   "metadata": {},
   "outputs": [],
   "source": [
    "learner.save('LSTM_ft-IMDB_LM')"
   ]
  },
  {
   "cell_type": "code",
   "execution_count": 25,
   "metadata": {},
   "outputs": [],
   "source": [
    "learner.save_encoder('LSTM_ft-IMDB_enc')"
   ]
  },
  {
   "cell_type": "code",
   "execution_count": 27,
   "metadata": {},
   "outputs": [
    {
     "data": {
      "text/plain": [
       "[PosixPath('/root/.fastai/data/imdb/models/tmp.pth'),\n",
       " PosixPath('/root/.fastai/data/imdb/models/fit_head.pth'),\n",
       " PosixPath('/root/.fastai/data/imdb/models/LSTM_ft-IMDB_LM.pth'),\n",
       " PosixPath('/root/.fastai/data/imdb/models/LSTM_ft-IMDB_enc.pth')]"
      ]
     },
     "execution_count": 27,
     "metadata": {},
     "output_type": "execute_result"
    }
   ],
   "source": [
    "(path/'models').ls()"
   ]
  },
  {
   "cell_type": "markdown",
   "metadata": {},
   "source": [
    "On fais tourner notre language model et on le fait parler :"
   ]
  },
  {
   "cell_type": "code",
   "execution_count": 12,
   "metadata": {},
   "outputs": [
    {
     "name": "stdout",
     "output_type": "stream",
     "text": [
      "The film is about a computer student passionate about machine learning who is looking for an internship\n"
     ]
    }
   ],
   "source": [
    "TEXT = \"The film is about a computer student passionate \\\n",
    "about machine learning who is looking for an internship\"\n",
    "N_WORDS = 40\n",
    "print(TEXT)"
   ]
  },
  {
   "cell_type": "code",
   "execution_count": 13,
   "metadata": {},
   "outputs": [
    {
     "name": "stdout",
     "output_type": "stream",
     "text": [
      "The film is about a computer student passionate about machine learning who is looking for an internship at a high - tech corporation that is working on the Internet . It 's the only way his work is able to get past his current computer , which he by then has to deal with .\n"
     ]
    }
   ],
   "source": [
    "print(learner.predict(TEXT, N_WORDS, temperature=0.75))"
   ]
  },
  {
   "cell_type": "markdown",
   "metadata": {},
   "source": [
    "On passe finalement à un classifier, une fois avoir fine tune notre language model, qui est maintenant spécialisé dans la critique de films."
   ]
  },
  {
   "cell_type": "code",
   "execution_count": 14,
   "metadata": {},
   "outputs": [
    {
     "data": {
      "text/html": [],
      "text/plain": [
       "<IPython.core.display.HTML object>"
      ]
     },
     "metadata": {},
     "output_type": "display_data"
    },
    {
     "data": {
      "text/html": [],
      "text/plain": [
       "<IPython.core.display.HTML object>"
      ]
     },
     "metadata": {},
     "output_type": "display_data"
    }
   ],
   "source": [
    "data_class = (TextList.from_folder(path, vocab=data_lm.vocab)\n",
    "              .split_by_folder(valid='test')\n",
    "              .label_from_folder(classes=['neg', 'pos'])\n",
    "              .databunch(bs=48))"
   ]
  },
  {
   "cell_type": "markdown",
   "metadata": {},
   "source": [
    "Nous avons juste besoin de l'encoder pour notre classifier"
   ]
  },
  {
   "cell_type": "code",
   "execution_count": 15,
   "metadata": {},
   "outputs": [
    {
     "data": {
      "text/plain": [
       "RNNLearner(data=TextClasDataBunch;\n",
       "\n",
       "Train: LabelList (25000 items)\n",
       "x: TextList\n",
       "xxbos xxmaj following the success of \" xxmaj paris , xxmaj je t'aime \" , a group of directors decided to get together and make a similar anthology style film based in xxmaj new xxmaj york . xxmaj unlike the original film , the stories in this film seem to sometimes come and go too quickly -- by the time you think are getting into a story , it 's over in too many cases . xxmaj and , the often start up and stop and then begin again -- with the stories woven together . xxmaj as a result , there is no title to indicate that a story is complete and it is less formal in structure . \n",
       " \n",
       "  xxmaj sadly , however , while \" xxmaj paris , xxmaj je t'aime \" was hit or miss ( mostly hit ) , most of \" xxmaj new xxmaj york , i xxmaj love xxmaj you \" was miss . xxmaj the stories tended to be much more sexual in nature but also far less sweet -- and often quite terrible . xxmaj it was an amazingly dull and uninteresting film with only a few exceptional stories -- and perhaps the often depressing music made it seem more so . xxmaj now understand , it was good quality music but its somber tone really , really made me feel like cutting my wrists ! xxmaj among the better ones was the story about the young man who took a girl in a wheelchair to prom , the couple talking about cheating outside a restaurant ( though this was also in the first film ) and the crotchety old couple . xxmaj this is all so sad because i had loved the first film so much -- and i really xxup wanted to love this film . i respected what they tried but simply did n't like it very much . \n",
       " \n",
       "  xxmaj by the way , and this is xxup not really a complaint , but i was amazed how many people were smoking in the film . xxmaj for a recent film , that was unusual in our more anti - smoking culture . \n",
       " \n",
       "  xxmaj also , if you get the xxup dvd , there are two segments included as extras that were not included in the film . xxmaj one consists of xxmaj kevin xxmaj bacon ( wearing a cool fedora ) eating a hotdog xxrep 4 . and absolutely xxup nothing more for almost ten minutes . xxmaj the other features a teen who spends the film videotaping the world -- including a very unhappy couple .,xxbos xxup overall xxup performance : - xxmaj at last the long waiting xxup aag hits the screens . xxmaj unfortunately , it could n't set progressive fire in the audience . xxmaj the first best thing to talk about the movie is xxmaj the idea of remaking the mighty xxup sholay . xxmaj and xxmaj varma made a nice choice of changing the total backdrop of the movie . xxmaj if he repeated the same xxmaj xxunk backdrop , people will again say there is nothing new in this . xxmaj different background is appreciative but the way he presented it is not worthy . xxmaj right from the start of his career with xxup xxunk in xxmaj telugu , he had been using the same lighting and kind of background . i seriously dunno this guy xxmaj varma considers about lighting or not or may be he has no other lighting technique other than like gordon willis xxup godfather . xxmaj it 's all xxup dutch xxup dutch xxup dutch xxup dutch . xxmaj why would some body use so many xxmaj dutch angles and extreme closeup shots xxrep 7 ! xxmaj the shot division is lame . xxmaj characters could n't carry an emotion , performances are not to their mark , xxmaj storytelling is worse , xxmaj background is really really terrible . \n",
       " \n",
       "  xxmaj xxunk xxmaj xxunk been over xxunk to his job . xxup varma produced great villains like xxmaj xxunk , xxmaj xxunk xxmaj das , xxmaj xxunk xxmaj bhai but this time he failed in carving the all time best characters of xxmaj hindi xxmaj cinema . xxmaj there 's no comparison of xxmaj gabbar with xxmaj babban . xxmaj babban is a more psycho rather than a villain , still he has a soft corner for his brother ( xxmaj it 's a gift in this movie ) . xxmaj xxunk performance is not to his mark . xxmaj his appearance itself is pathetic . xxmaj the scar on his nose , symbolizes forgotten villains of black and white cinema . xxmaj what ever they worked on xxmaj babban is not successful . xxmaj babban is no comparison with xxmaj gabbar . \n",
       " \n",
       "  xxmaj xxunk xxmaj the first best thing about this character is not to put audience in suspense about his hands . xxmaj if varma did that , it would be like teaching xxup abcd to a xxmaj bachelor degree holder . xxmaj xxunk good he opened the secret early . xxmaj but the flashback is pathetic . xxmaj varma could n't use a great actor like mohanlal to his mark . \n",
       " \n",
       "  xxmaj xxunk xxmaj the only character with betterment . xxmaj this character has been improved with satisfactory changes and was used according to the story . \n",
       " \n",
       "  xxmaj xxunk , xxmaj raj , xxmaj xxunk xxmaj no body bothers or at least considers these character . xxmaj the utter failure of movie starts when director could not work on the close friendship between our xxunk . xxmaj these characters carry nothing to this movie . \n",
       " \n",
       "  xxup xxunk xxmaj his quality is degrading , diminishing . xxup aag totally can be treated as a c grade movie . xxmaj sholay is a fire of revenge , problem of a town , meaning for true friendship and highly appreciated nuisance and fun by xxmaj xxunk . xxup aag never carried an emotion with its characters . xxmaj storytelling is too weak that it could not make audience feel sympathy for the characters . xxmaj do n't compare xxup aag with sholay , still u will not like it . \n",
       " \n",
       "  xxmaj if you dare watch this movie . xxmaj you will be burnt alive in xxup ramgopal xxup varma xxup ki xxup aag,xxbos i watched this movie purely for the setting . xxmaj it was filmed in an old hotel that a friend owns shares of . xxmaj the plot was predictable , the acting was xxunk at best , the scares were all gross - outs , not true scares . \n",
       " \n",
       "  i do n't remember much of the plot , and i think that 's because there was n't much of one to remember . xxmaj they did n't even use the hotel to it 's fullest potential ... xxmaj the beaches are fantastic and the hotel is situated on a peninsula . xxmaj at low tide , you can walk almost 1 / 4 mile into the bay , which is actually an eerie sight first thing in the morning or late at night when the wind is howling through the cracks . \n",
       " \n",
       "  xxmaj the best way to see this movie is with the remote in your hand so you can fast forward through the action ( and i 'm using that term xxunk and pause at the beauty of the surroundings !,xxbos xxmaj claustrophobic camera angles that do not help the movie : xxmaj too long face only shots where you most of the time get the feeling that the lower half of the film is missing ( that the screen is cut off ) , because there seems to be important actions going on , but you can not see them . xxmaj there is anyway already too much confusion in the movie , so these viewing angles make it worse and do not contribute to artful visuals . \n",
       " \n",
       "  i like artfully made movies and unconventional camera work . i can handle deep and slow movies . xxmaj but this one is trying too hard to be something artful and fails in my opinion painfully . \n",
       " \n",
       "  xxmaj nothing to get attached to , to any of the characters , because they are not worked out well enough . xxmaj to work out characters more is needed , than just minute long face shots , at least with this set of xxunk . \n",
       " \n",
       "  i wonder whether some of the not so good acting is due to the script and director or due to the actors . \n",
       " \n",
       "  i will stay away from films both written and directed by xxmaj le xxmaj you for sure in the future . \n",
       " \n",
       "  xxmaj what an annoying film even for someone who would be interested in that part of history , and for someone who spent time in xxmaj shanghai .,xxbos xxmaj some kids are hiking in the mountains , and one of them goes into a large tunnel and discovers some old mummified gladiator . xxmaj he puts on the gladiator 's helmet and spends the rest of the movie killing all the other hikers . \n",
       " \n",
       "  xxmaj this thing is just so utterly senseless it 's maddening . xxmaj here 's a short list of things that do n't make any sense : \n",
       " \n",
       "  1 ) a guy and a girl are in their tent and they think they hear something outside . xxmaj the guy goes out to investigate and finds another hiker outside . xxmaj then he hears his girlfriend scream so they head back to the tent - arriving the next morning ? ! ? xxmaj he was only 50 feet away ! \n",
       " \n",
       "  2 ) xxmaj these two dunderheads then hear another girl scream ( xxmaj what , 100 feet away ? ) , but do n't investigate because they 're afraid they 'll get lost . \n",
       " \n",
       "  3 ) xxmaj another guy and a girl are walking around , and in about their 10th scene together the girl informs the guy that due to the circumstances , protocol no longer requires him to address her as professor . i mean , what the ... ? xxmaj first off , that 's just a really stupid thing to say , secondly he never called her professor in the first nine scenes they were in together . \n",
       " \n",
       "  4 ) a wounded girl attacks xxmaj demonicus and he stops her , telling her that part of his gladiator training taught him how to wound without killing . xxmaj um , yeah , we kinda noticed she 's wounded and not dead because she 's up and walking around . xxmaj but , thanks for that tidbit of information . \n",
       " \n",
       "  5 ) xxmaj one girl is tied up in xxmaj demonicus ' lair , and when someone attempts to free her , she instead instructs this person to go and get help . xxmaj um , look , idiot , if she set you free , which would take about 5 seconds , there would be no need to get help . \n",
       " \n",
       "  xxmaj and it just goes on and on . xxmaj the whole middle part of the movie is spent with the two idiots getting lost in the woods , then they fight , then they pitch a tent and ignore the screams of their friends , then they wander around some more . xxmaj it 's just so damned boring and pointless that i turned the xxup dvd off halfway through . \n",
       " \n",
       "  xxmaj none of these characters are sympathetic , especially the ones that get the majority of the screen time . xxmaj demonicus himself made me laugh out loud every time i saw him - he looks like a kid in a xxmaj halloween costume , xxunk his face up to look evil . xxmaj he runs , or should i say scampers around like he 's gay . xxmaj the special effects are comedic , the acting is for the most part awful , and nothing makes any sense . \n",
       " \n",
       "  xxmaj overall , maybe this concept could have produced an enjoyably campy film if they put some more time and effort into it , getting rid of the ludicrous dialogue , creating characters with actual likable personalities , having some sort of logical flow to the action , and maybe even making xxmaj demonicus a female character in a sexy gladiator outfit . xxmaj but no , instead we get this senseless pile of nonsense that will bore you to death .\n",
       "y: CategoryList\n",
       "neg,neg,neg,neg,neg\n",
       "Path: /root/.fastai/data/imdb;\n",
       "\n",
       "Valid: LabelList (25000 items)\n",
       "x: TextList\n",
       "xxbos xxmaj this is an oft - used line , but it really sums up this movie ... xxunk this is the current state of gay cinema , then we 're in real trouble \" . i saw this film at xxup xxunk because of the high imdb rating ( 7.6 ) and if there was ever a case of vote stacking on imdb , then this is it . xxmaj just watch the number fall over the release weeks of the film . \n",
       " \n",
       "  xxmaj easy plot ... xxmaj boy finds out his high school ex ( boyfriend ) is getting married to a female friend of theirs so he goes back to his old hometown ( still carrying a 10 year old torch ) to see what happened . \n",
       " \n",
       "  xxmaj first off , i liked \" xxmaj latter xxmaj days \" , the director 's last feature , despite its cookie cutter characters and plot contrivances , but you 're supposed to become a better director with each subsequent release . i do n't know how you get horrible supporting performances out of so many xxup tv veterans ( xxmaj robert xxmaj foxworth , xxmaj joanna xxmaj cassidy , xxmaj tori xxmaj spelling ) , but somehow he managed to . xxmaj the writing was xxmaj lifetime xxmaj network quality ( way back when they were xxup really bad ) and the situations were unbelievable xxup and uncomfortably hard to watch . i kept reaching for a non - existent remote control to fast forward , but ultimately made myself stay to the end , hoping for a decent ending . xxmaj ugh ... no . xxmaj even the gratuitous male nudity that popped up during the movie was so blatantly gratuitous that it seemed to be there to keep people in their seats . \n",
       " \n",
       "  xxmaj to be fair ... the 2 leads , especially in the gratuitous nude scenes , were gorgeous . xxmaj there was also a real sweetness between them during their rekindling friendship as they uncovered how they went separate ways . xxmaj and the film looked great ... good quality and color saturation for an independent film . \n",
       " \n",
       "  xxmaj how is it that network xxup tv can give week after week of great , entertaining weekly episodes ( xxmaj like \" xxmaj ugly xxmaj betty \" , \" xxmaj xxunk . xxmaj housewives \" , etc . ) , but so many feature releases in similar genres can be as bad as this ?,xxbos xxmaj let me first start out by saying 1 out of 10 is too good for this movie . xxmaj it 's unfortunate that imdb does n't have tenths of a star ... i watched this abortion of a movie in the middle of the night due to insomnia , and it was absolute garbage . xxmaj the plot was horrible . xxmaj the acting was horrible . xxmaj the movie was utterly boring . \" malachi \" looked like the xxmaj shadow with xxmaj alec xxmaj baldwin ( xxmaj the xxmaj shadow is infinitely better than this as well ) xxmaj the character xxmaj eve was so undeveloped and 2 dimensional she did n't even grab my attention . i did n't even know her name was xxmaj eve . xxmaj don was interesting when he kept his mouth shut . xxmaj the \" xxup twist \" ( if you can call it that ) was laughable and pathetic . xxmaj when it came , the movie had done such a horrid job of building suspense or attachment to any character that i simply thought \" xxmaj who gives a s * * * . \" xxmaj the only thing that made me even lift an eyebrow about this movie was the fact the med . teacher was xxmaj dyson in xxmaj terminator 2 ( xxmaj also a movie that was light years ahead of this motion picture massacre . ) xxmaj anyone who was involved in this movie should be ashamed of themselves for wasting 90 minutes of countless people 's time . xxmaj it 's no wonder no actor from this movie ever had a fruitful career . xxmaj in summary xxrep 4 . xxmaj this movie is so bad , i feel dirty and need a shower . xxmaj worst movie in history , xxmaj gigli was better , xxmaj prom xxmaj night ( the remake ) was better and dare i say it xxmaj saw xxup iv was better xxrep 11 .,xxbos xxmaj when a xxmaj stranger xxmaj calls belongs to the group of this year 's remakes , with movies like xxmaj poseidon just over the horizon . xxmaj director xxmaj simon xxmaj west ( xxmaj con xxmaj air ) helms this updated version , with plenty of relative unknown casts , which signals either the death rate is high ( it is n't ) , or that established stars are steering clear from a potential turkey . \n",
       " \n",
       "  xxmaj clocking in at a relatively short 87 minutes , it 's primarily made up of two acts . xxmaj the first , which takes a full one hour , is the setup . xxmaj our heroine , xxmaj jill xxmaj johnson ( xxmaj camilla xxmaj belle ) , chalked up 800 minutes of talk time on her mobile phone ( do the math ) , and as a lesson in responsibility , her parents had confiscated her mobile and grounded her . xxmaj to pay off her debt , she works part time as a babysitter , and looking after the wealthy xxmaj mandrakis ' kids , is her first stint . \n",
       " \n",
       "  xxmaj the huge xxmaj mandrakis mansion gets a full tour treatment , as it is where all the action will take place . xxmaj plenty of rooms ( makes for good hiding ) , an indoor pool sized aquarium - pond ( to get wet in , for the wet t - shirt treatment ) , and check this out - motion detector lights , which you just know will contribute to the scares with the manipulation of lights and shadows . xxmaj naturally , prank calls , red herrings are aplenty , which chalks up this act 's runtime , but most of them fall flat in the suspense department . \n",
       " \n",
       "  xxmaj there 's a minor trend emerging , with actors being the unseen , providing and acting through their voice instead . xxmaj recent attempts include xxmaj edward xxmaj norton in xxmaj kingdom of xxmaj heaven , and xxmaj hugo xxmaj weaving 's v for xxmaj vendetta . xxmaj here , xxmaj lance xxmaj henriksen does the honours for the anonymous , nameless psychotic killer , but it just falls flat . xxmaj why ? xxmaj the script does n't give him much dialogue . xxmaj most of the phone calls made were of the silent ( mind - masturbatory ) nature , which i felt was a waste - they could have also casted some unknown instead , and the job will still get done . \n",
       " \n",
       "  xxmaj the second act , where the main action takes place , is too little too late . xxmaj and the bogeyman , well , is purely a bogeyman . xxmaj those expecting blood and gore will be disappointed , as basically it 's a one xxunk show to hold your attention in the first hour ( eye candies always succeed ) , and this act will have her resolve everything in double quick time , ala xxmaj rachel mcadams in xxmaj red xxmaj eye . xxmaj do n't expect any form of character development , nor subplots that will engage . \n",
       " \n",
       "  xxmaj the ending tried to be too smart for its own good , and came across as a cheap way to end the movie . xxmaj there 's not much of goodness to highlight from this movie - no scares , no thrills , no enigmatic villain , and plenty of security flaws , especially with that door alarm - the only thing it 's good for , is to provide a number for xxup xxunk,xxbos xxmaj not too good a movie . xxmaj sure , it contains action , but the effects are n't all that good for a ' 08 movie . xxmaj gunshot effects are downright horrible . xxmaj acting is \" meh \" \n",
       " \n",
       "  xxmaj it is nothing like xxmaj far xxmaj cry , other than names and the very basics of the story ( genetically enhanced super soldiers going amok ) . xxmaj the super soldiers are very different , the mercenaries are different , the setting are completely different ( tropical island in the pacific in the game , island in northern - ish xxmaj america in the movie ) . \n",
       " \n",
       "  i loved playing xxmaj far xxmaj cry . i loved the story and setting . i hated the movie .,xxbos xxmaj did someone find the plot somewhere in the film ? . xxmaj perhaps it is the thing missing in this pretentious exercise of cinema about cinema . xxmaj it is quite surprising that xxmaj gordon says that \" a movie without a plot is nothing \" ... xxmaj it is possible that characters have more to say that the own xxmaj wim xxmaj wenders . xxmaj was this phrase in the original plot or the actor decided to send a hint to the director ? .\n",
       "y: CategoryList\n",
       "neg,neg,neg,neg,neg\n",
       "Path: /root/.fastai/data/imdb;\n",
       "\n",
       "Test: None, model=SequentialRNN(\n",
       "  (0): MultiBatchEncoder(\n",
       "    (module): AWD_LSTM(\n",
       "      (encoder): Embedding(60000, 400, padding_idx=1)\n",
       "      (encoder_dp): EmbeddingDropout(\n",
       "        (emb): Embedding(60000, 400, padding_idx=1)\n",
       "      )\n",
       "      (rnns): ModuleList(\n",
       "        (0): WeightDropout(\n",
       "          (module): LSTM(400, 1152, batch_first=True)\n",
       "        )\n",
       "        (1): WeightDropout(\n",
       "          (module): LSTM(1152, 1152, batch_first=True)\n",
       "        )\n",
       "        (2): WeightDropout(\n",
       "          (module): LSTM(1152, 400, batch_first=True)\n",
       "        )\n",
       "      )\n",
       "      (input_dp): RNNDropout()\n",
       "      (hidden_dps): ModuleList(\n",
       "        (0): RNNDropout()\n",
       "        (1): RNNDropout()\n",
       "        (2): RNNDropout()\n",
       "      )\n",
       "    )\n",
       "  )\n",
       "  (1): PoolingLinearClassifier(\n",
       "    (layers): Sequential(\n",
       "      (0): BatchNorm1d(1200, eps=1e-05, momentum=0.1, affine=True, track_running_stats=True)\n",
       "      (1): Dropout(p=0.2, inplace=False)\n",
       "      (2): Linear(in_features=1200, out_features=50, bias=True)\n",
       "      (3): ReLU(inplace=True)\n",
       "      (4): BatchNorm1d(50, eps=1e-05, momentum=0.1, affine=True, track_running_stats=True)\n",
       "      (5): Dropout(p=0.1, inplace=False)\n",
       "      (6): Linear(in_features=50, out_features=2, bias=True)\n",
       "    )\n",
       "  )\n",
       "), opt_func=functools.partial(<class 'torch.optim.adam.Adam'>, betas=(0.9, 0.99)), loss_func=FlattenedLoss of CrossEntropyLoss(), metrics=[<function accuracy at 0x7f31e9a82050>], true_wd=True, bn_wd=True, wd=0.01, train_bn=True, path=PosixPath('/root/.fastai/data/imdb'), model_dir='models', callback_fns=[functools.partial(<class 'fastai.basic_train.Recorder'>, add_time=True, silent=False)], callbacks=[RNNTrainer\n",
       "learn: ...\n",
       "alpha: 2.0\n",
       "beta: 1.0], layer_groups=[Sequential(\n",
       "  (0): Embedding(60000, 400, padding_idx=1)\n",
       "  (1): EmbeddingDropout(\n",
       "    (emb): Embedding(60000, 400, padding_idx=1)\n",
       "  )\n",
       "), Sequential(\n",
       "  (0): WeightDropout(\n",
       "    (module): LSTM(400, 1152, batch_first=True)\n",
       "  )\n",
       "  (1): RNNDropout()\n",
       "), Sequential(\n",
       "  (0): WeightDropout(\n",
       "    (module): LSTM(1152, 1152, batch_first=True)\n",
       "  )\n",
       "  (1): RNNDropout()\n",
       "), Sequential(\n",
       "  (0): WeightDropout(\n",
       "    (module): LSTM(1152, 400, batch_first=True)\n",
       "  )\n",
       "  (1): RNNDropout()\n",
       "), Sequential(\n",
       "  (0): PoolingLinearClassifier(\n",
       "    (layers): Sequential(\n",
       "      (0): BatchNorm1d(1200, eps=1e-05, momentum=0.1, affine=True, track_running_stats=True)\n",
       "      (1): Dropout(p=0.2, inplace=False)\n",
       "      (2): Linear(in_features=1200, out_features=50, bias=True)\n",
       "      (3): ReLU(inplace=True)\n",
       "      (4): BatchNorm1d(50, eps=1e-05, momentum=0.1, affine=True, track_running_stats=True)\n",
       "      (5): Dropout(p=0.1, inplace=False)\n",
       "      (6): Linear(in_features=50, out_features=2, bias=True)\n",
       "    )\n",
       "  )\n",
       ")], add_time=True, silent=False)"
      ]
     },
     "execution_count": 15,
     "metadata": {},
     "output_type": "execute_result"
    }
   ],
   "source": [
    "learn = text_classifier_learner(data_class, AWD_LSTM, drop_mult=0.5)\n",
    "learn.load_encoder(\"/kaggle/input/encoder/LSTM_ft-IMDB_enc\")"
   ]
  },
  {
   "cell_type": "markdown",
   "metadata": {},
   "source": [
    "On entraîne maintenant notre Classifier"
   ]
  },
  {
   "cell_type": "code",
   "execution_count": 16,
   "metadata": {},
   "outputs": [
    {
     "data": {
      "text/html": [
       "\n",
       "    <div>\n",
       "        <style>\n",
       "            /* Turns off some styling */\n",
       "            progress {\n",
       "                /* gets rid of default border in Firefox and Opera. */\n",
       "                border: none;\n",
       "                /* Needs to be in here for Safari polyfill so background images work as expected. */\n",
       "                background-size: auto;\n",
       "            }\n",
       "            .progress-bar-interrupted, .progress-bar-interrupted::-webkit-progress-bar {\n",
       "                background: #F44336;\n",
       "            }\n",
       "        </style>\n",
       "      <progress value='0' class='' max='1' style='width:300px; height:20px; vertical-align: middle;'></progress>\n",
       "      0.00% [0/1 00:00<00:00]\n",
       "    </div>\n",
       "    \n",
       "<table border=\"1\" class=\"dataframe\">\n",
       "  <thead>\n",
       "    <tr style=\"text-align: left;\">\n",
       "      <th>epoch</th>\n",
       "      <th>train_loss</th>\n",
       "      <th>valid_loss</th>\n",
       "      <th>accuracy</th>\n",
       "      <th>time</th>\n",
       "    </tr>\n",
       "  </thead>\n",
       "  <tbody>\n",
       "  </tbody>\n",
       "</table><p>\n",
       "\n",
       "    <div>\n",
       "        <style>\n",
       "            /* Turns off some styling */\n",
       "            progress {\n",
       "                /* gets rid of default border in Firefox and Opera. */\n",
       "                border: none;\n",
       "                /* Needs to be in here for Safari polyfill so background images work as expected. */\n",
       "                background-size: auto;\n",
       "            }\n",
       "            .progress-bar-interrupted, .progress-bar-interrupted::-webkit-progress-bar {\n",
       "                background: #F44336;\n",
       "            }\n",
       "        </style>\n",
       "      <progress value='95' class='' max='520' style='width:300px; height:20px; vertical-align: middle;'></progress>\n",
       "      18.27% [95/520 00:23<01:43 2.8112]\n",
       "    </div>\n",
       "    "
      ],
      "text/plain": [
       "<IPython.core.display.HTML object>"
      ]
     },
     "metadata": {},
     "output_type": "display_data"
    },
    {
     "name": "stdout",
     "output_type": "stream",
     "text": [
      "LR Finder is complete, type {learner_name}.recorder.plot() to see the graph.\n"
     ]
    }
   ],
   "source": [
    "learn.lr_find()"
   ]
  },
  {
   "cell_type": "code",
   "execution_count": 17,
   "metadata": {},
   "outputs": [
    {
     "data": {
      "image/png": "[encoded data removed]",
      "text/plain": [
       "<Figure size 432x288 with 1 Axes>"
      ]
     },
     "metadata": {
      "needs_background": "light"
     },
     "output_type": "display_data"
    }
   ],
   "source": [
    "learn.recorder.plot()"
   ]
  },
  {
   "cell_type": "code",
   "execution_count": 18,
   "metadata": {},
   "outputs": [
    {
     "data": {
      "text/html": [
       "<table border=\"1\" class=\"dataframe\">\n",
       "  <thead>\n",
       "    <tr style=\"text-align: left;\">\n",
       "      <th>epoch</th>\n",
       "      <th>train_loss</th>\n",
       "      <th>valid_loss</th>\n",
       "      <th>accuracy</th>\n",
       "      <th>time</th>\n",
       "    </tr>\n",
       "  </thead>\n",
       "  <tbody>\n",
       "    <tr>\n",
       "      <td>0</td>\n",
       "      <td>0.586578</td>\n",
       "      <td>0.530594</td>\n",
       "      <td>0.736280</td>\n",
       "      <td>02:56</td>\n",
       "    </tr>\n",
       "    <tr>\n",
       "      <td>1</td>\n",
       "      <td>0.560701</td>\n",
       "      <td>0.511602</td>\n",
       "      <td>0.750440</td>\n",
       "      <td>02:57</td>\n",
       "    </tr>\n",
       "    <tr>\n",
       "      <td>2</td>\n",
       "      <td>0.545414</td>\n",
       "      <td>0.498788</td>\n",
       "      <td>0.757280</td>\n",
       "      <td>03:16</td>\n",
       "    </tr>\n",
       "  </tbody>\n",
       "</table>"
      ],
      "text/plain": [
       "<IPython.core.display.HTML object>"
      ]
     },
     "metadata": {},
     "output_type": "display_data"
    }
   ],
   "source": [
    "learn.fit_one_cycle(3, 2e-2, moms=(0.8,0.7))"
   ]
  },
  {
   "cell_type": "code",
   "execution_count": 19,
   "metadata": {},
   "outputs": [
    {
     "data": {
      "text/html": [
       "<table border=\"1\" class=\"dataframe\">\n",
       "  <thead>\n",
       "    <tr style=\"text-align: left;\">\n",
       "      <th>epoch</th>\n",
       "      <th>train_loss</th>\n",
       "      <th>valid_loss</th>\n",
       "      <th>accuracy</th>\n",
       "      <th>time</th>\n",
       "    </tr>\n",
       "  </thead>\n",
       "  <tbody>\n",
       "    <tr>\n",
       "      <td>0</td>\n",
       "      <td>0.448688</td>\n",
       "      <td>0.391573</td>\n",
       "      <td>0.819360</td>\n",
       "      <td>03:39</td>\n",
       "    </tr>\n",
       "  </tbody>\n",
       "</table>"
      ],
      "text/plain": [
       "<IPython.core.display.HTML object>"
      ]
     },
     "metadata": {},
     "output_type": "display_data"
    }
   ],
   "source": [
    "learn.freeze_to(-2)\n",
    "learn.fit_one_cycle(1, slice(1e-2/(2.6**4),1e-2), moms=(0.8,0.7))"
   ]
  },
  {
   "cell_type": "code",
   "execution_count": 20,
   "metadata": {},
   "outputs": [
    {
     "data": {
      "text/html": [
       "<table border=\"1\" class=\"dataframe\">\n",
       "  <thead>\n",
       "    <tr style=\"text-align: left;\">\n",
       "      <th>epoch</th>\n",
       "      <th>train_loss</th>\n",
       "      <th>valid_loss</th>\n",
       "      <th>accuracy</th>\n",
       "      <th>time</th>\n",
       "    </tr>\n",
       "  </thead>\n",
       "  <tbody>\n",
       "    <tr>\n",
       "      <td>0</td>\n",
       "      <td>0.353943</td>\n",
       "      <td>0.301778</td>\n",
       "      <td>0.869720</td>\n",
       "      <td>05:19</td>\n",
       "    </tr>\n",
       "  </tbody>\n",
       "</table>"
      ],
      "text/plain": [
       "<IPython.core.display.HTML object>"
      ]
     },
     "metadata": {},
     "output_type": "display_data"
    }
   ],
   "source": [
    "learn.freeze_to(-3)\n",
    "learn.fit_one_cycle(1, slice(5e-3/(2.6**4),5e-3), moms=(0.8,0.7))"
   ]
  },
  {
   "cell_type": "code",
   "execution_count": 21,
   "metadata": {},
   "outputs": [
    {
     "data": {
      "text/html": [
       "\n",
       "    <div>\n",
       "        <style>\n",
       "            /* Turns off some styling */\n",
       "            progress {\n",
       "                /* gets rid of default border in Firefox and Opera. */\n",
       "                border: none;\n",
       "                /* Needs to be in here for Safari polyfill so background images work as expected. */\n",
       "                background-size: auto;\n",
       "            }\n",
       "            .progress-bar-interrupted, .progress-bar-interrupted::-webkit-progress-bar {\n",
       "                background: #F44336;\n",
       "            }\n",
       "        </style>\n",
       "      <progress value='0' class='' max='1' style='width:300px; height:20px; vertical-align: middle;'></progress>\n",
       "      0.00% [0/1 00:00<00:00]\n",
       "    </div>\n",
       "    \n",
       "<table border=\"1\" class=\"dataframe\">\n",
       "  <thead>\n",
       "    <tr style=\"text-align: left;\">\n",
       "      <th>epoch</th>\n",
       "      <th>train_loss</th>\n",
       "      <th>valid_loss</th>\n",
       "      <th>accuracy</th>\n",
       "      <th>time</th>\n",
       "    </tr>\n",
       "  </thead>\n",
       "  <tbody>\n",
       "  </tbody>\n",
       "</table><p>\n",
       "\n",
       "    <div>\n",
       "        <style>\n",
       "            /* Turns off some styling */\n",
       "            progress {\n",
       "                /* gets rid of default border in Firefox and Opera. */\n",
       "                border: none;\n",
       "                /* Needs to be in here for Safari polyfill so background images work as expected. */\n",
       "                background-size: auto;\n",
       "            }\n",
       "            .progress-bar-interrupted, .progress-bar-interrupted::-webkit-progress-bar {\n",
       "                background: #F44336;\n",
       "            }\n",
       "        </style>\n",
       "      <progress value='85' class='' max='520' style='width:300px; height:20px; vertical-align: middle;'></progress>\n",
       "      16.35% [85/520 00:34<02:57 0.9112]\n",
       "    </div>\n",
       "    "
      ],
      "text/plain": [
       "<IPython.core.display.HTML object>"
      ]
     },
     "metadata": {},
     "output_type": "display_data"
    },
    {
     "name": "stdout",
     "output_type": "stream",
     "text": [
      "LR Finder is complete, type {learner_name}.recorder.plot() to see the graph.\n"
     ]
    }
   ],
   "source": [
    "learn.lr_find()"
   ]
  },
  {
   "cell_type": "code",
   "execution_count": 22,
   "metadata": {},
   "outputs": [
    {
     "data": {
      "image/png": "[encoded data removed]",
      "text/plain": [
       "<Figure size 432x288 with 1 Axes>"
      ]
     },
     "metadata": {
      "needs_background": "light"
     },
     "output_type": "display_data"
    }
   ],
   "source": [
    "learn.recorder.plot()"
   ]
  },
  {
   "cell_type": "code",
   "execution_count": 23,
   "metadata": {},
   "outputs": [
    {
     "data": {
      "text/html": [
       "<table border=\"1\" class=\"dataframe\">\n",
       "  <thead>\n",
       "    <tr style=\"text-align: left;\">\n",
       "      <th>epoch</th>\n",
       "      <th>train_loss</th>\n",
       "      <th>valid_loss</th>\n",
       "      <th>accuracy</th>\n",
       "      <th>time</th>\n",
       "    </tr>\n",
       "  </thead>\n",
       "  <tbody>\n",
       "    <tr>\n",
       "      <td>0</td>\n",
       "      <td>0.301540</td>\n",
       "      <td>0.290188</td>\n",
       "      <td>0.877520</td>\n",
       "      <td>06:29</td>\n",
       "    </tr>\n",
       "    <tr>\n",
       "      <td>1</td>\n",
       "      <td>0.277834</td>\n",
       "      <td>0.278209</td>\n",
       "      <td>0.883280</td>\n",
       "      <td>05:58</td>\n",
       "    </tr>\n",
       "    <tr>\n",
       "      <td>2</td>\n",
       "      <td>0.254483</td>\n",
       "      <td>0.278802</td>\n",
       "      <td>0.882440</td>\n",
       "      <td>05:50</td>\n",
       "    </tr>\n",
       "  </tbody>\n",
       "</table>"
      ],
      "text/plain": [
       "<IPython.core.display.HTML object>"
      ]
     },
     "metadata": {},
     "output_type": "display_data"
    }
   ],
   "source": [
    "learn.unfreeze()\n",
    "learn.fit_one_cycle(3, slice(1e-3/(2.6**4),1e-3), moms=(0.8,0.7))"
   ]
  },
  {
   "cell_type": "markdown",
   "metadata": {},
   "source": [
    "On peut finalement utiliser notre modèle pour prédire si notre critique est positive ou négative, qui marche plutôt bien."
   ]
  },
  {
   "cell_type": "code",
   "execution_count": 24,
   "metadata": {},
   "outputs": [
    {
     "data": {
      "text/plain": [
       "(Category tensor(1), tensor(1), tensor([0.0016, 0.9984]))"
      ]
     },
     "execution_count": 24,
     "metadata": {},
     "output_type": "execute_result"
    }
   ],
   "source": [
    "learn.predict(\"I really loved that movie, it was awesome!\")"
   ]
  },
  {
   "cell_type": "code",
   "execution_count": 25,
   "metadata": {},
   "outputs": [
    {
     "data": {
      "text/plain": [
       "(Category tensor(0), tensor(0), tensor([9.9968e-01, 3.1899e-04]))"
      ]
     },
     "execution_count": 25,
     "metadata": {},
     "output_type": "execute_result"
    }
   ],
   "source": [
    "learn.predict(\"This film was very bad\")"
   ]
  },
  {
   "cell_type": "code",
   "execution_count": null,
   "metadata": {},
   "outputs": [],
   "source": []
  }
 ],
 "metadata": {
  "kernelspec": {
   "display_name": "Python 3",
   "language": "python",
   "name": "python3"
  },
  "language_info": {
   "codemirror_mode": {
    "name": "ipython",
    "version": 3
   },
   "file_extension": ".py",
   "mimetype": "text/x-python",
   "name": "python",
   "nbconvert_exporter": "python",
   "pygments_lexer": "ipython3",
   "version": "3.7.4"
  }
 },
 "nbformat": 4,
 "nbformat_minor": 4
}
